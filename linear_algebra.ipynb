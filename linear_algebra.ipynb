{
 "cells": [
  {
   "cell_type": "markdown",
   "metadata": {},
   "source": [
    "# Project: Linear Algebra in Python\n"
   ]
  },
  {
   "cell_type": "markdown",
   "metadata": {},
   "source": [
    "In this project I have developed python libraries to be used for Linear Algebra. This project includes libraries. \n",
    "\n",
    "* Matrix operations\n",
    "* Basic Satistical operations \n",
    "* Solving Linear Equations using Gauss Jordan and Gauss Seidel algorithms\n",
    "* PCA (Principal Component Analysis)\n",
    "\n",
    " \n",
    "\n",
    ">**Note:** Code and Markdown cells can be executed using the **Shift + Enter** keyboard shortcut. In addition, Markdown cells can be edited by typically double-clicking the cell to enter edit mode."
   ]
  },
  {
   "cell_type": "markdown",
   "metadata": {},
   "source": [
    "## Basic Matrix Operations\n",
    "\n",
    "In this project, I have used python utility functions:\n",
    "\n",
    "* get_dimensions: Used for finding dimensions (no of rows, no of columns) of a matrix \n",
    "* get_matrix_determinant : Used for finding determinant of a matrix \n",
    "* get_matrix_tranpose: Used for finding transpose of a matrix\n",
    "* get_matrix_inverse: Used for finding inverse of a matrix. If matrix is not inverible, Exception linear_algebra_error will be thrown\n",
    "* get_matrix_norm: Finding norm of a matrix\n",
    "* get_rank: Finding rank of a matrix\n",
    "* print_matrix: Print matrix in fancy format"
   ]
  },
  {
   "cell_type": "code",
   "execution_count": 1,
   "metadata": {},
   "outputs": [],
   "source": [
    "# Import libraries necessary for this project\n",
    "import linear_algebra as la\n",
    "import csv\n"
   ]
  },
  {
   "cell_type": "code",
   "execution_count": 2,
   "metadata": {},
   "outputs": [
    {
     "name": "stdout",
     "output_type": "stream",
     "text": [
      "dimensions of matrix: (3, 3)\n",
      "\n",
      "determinant of matrix: 10.0\n",
      "\n",
      "Transpose of matrix: \n",
      "3.0\t2.0\t0\t| \n",
      "0\t0\t1.0\t| \n",
      "2.0\t-2.0\t1.0\t| \n",
      "\n",
      "\n",
      "Inverse of matrix is:\n",
      "0.2\t0.2\t0.0\t| \n",
      "-0.2\t0.3\t1.0\t| \n",
      "0.2\t-0.3\t0.0\t| \n",
      "\n",
      "\n",
      "Rank matrix is:3\n",
      "\n",
      "Euclidian Norm of  matrix is:5.10990323892\n",
      "\n"
     ]
    }
   ],
   "source": [
    "# define a matrix\n",
    "matrix = [[3.0, 0, 2.0],[2.0, 0, -2.0], [0, 1.0, 1.0]]\n",
    "# Get dimensions\n",
    "dim = la.linear_algebra.get_matrix_dimensions(matrix)\n",
    "print \"dimensions of matrix: \" + str(dim)\n",
    "print \"\"\n",
    "\n",
    "# Get determinant of matrix\n",
    "det = la.linear_algebra.get_matrix_determinant(matrix)\n",
    "print \"determinant of matrix: \" + str(det)\n",
    "print \"\"\n",
    "\n",
    "# Get transpose of matrix\n",
    "trans_matrix = la.linear_algebra.get_matrix_transpose(matrix)\n",
    "print \"Transpose of matrix: \"\n",
    "la.linear_algebra.print_matrix(trans_matrix)\n",
    "print \"\"\n",
    "\n",
    "\n",
    "# Get inverse of matrix\n",
    "inv_matrix = la.linear_algebra.get_matrix_inverse(matrix)\n",
    "print \"Inverse of matrix is:\"\n",
    "la.linear_algebra.print_matrix(inv_matrix)\n",
    "print \"\"\n",
    "\n",
    "# Get rank of matrix\n",
    "rank = la.linear_algebra.get_matrix_rank(matrix)\n",
    "print \"Rank matrix is:\" + str(rank)\n",
    "print \"\"\n",
    "\n",
    "# Get Euclidian norm of matrix\n",
    "norm = la.linear_algebra.get_matrix_norm(matrix, 2)\n",
    "print \"Euclidian Norm of  matrix is:\" + str(norm)\n",
    "print \"\"\n",
    "\n",
    "\n",
    "\n",
    "    "
   ]
  },
  {
   "cell_type": "code",
   "execution_count": 3,
   "metadata": {},
   "outputs": [
    {
     "name": "stdout",
     "output_type": "stream",
     "text": [
      "matrix3 rank=1\n"
     ]
    }
   ],
   "source": [
    "matrix3 = [[10,   20,   10], [20,  40,   20], [30,   60,   30]];\n",
    "rank = la.linear_algebra.get_matrix_rank(matrix3)\n",
    "print \"matrix3 rank=\" + str(rank)"
   ]
  },
  {
   "cell_type": "markdown",
   "metadata": {},
   "source": [
    "## Matrix operation between two matrices\n",
    "\n",
    "Following methods can be used for operations between two given matrices:\n",
    "\n",
    "* get_matrix_sum : This method returns sum of two matrices. If the dimensions do not match Exception linear_algebra_error is raised\n",
    "\n",
    "* get_matrix_diff : This method returns difference between two matrices. If the dimensions do not match Exception linear_algebra_error is raised\n",
    "\n",
    "* get_matrix_product : This method returns product of two matrices. If no of columns of first matrix does not match number of rows of second matrix, then Exception linear_algebra_error is raised\n"
   ]
  },
  {
   "cell_type": "code",
   "execution_count": 4,
   "metadata": {
    "scrolled": true
   },
   "outputs": [
    {
     "name": "stdout",
     "output_type": "stream",
     "text": [
      " Sum of matrices matrix1, matrix2\n",
      "11.0\t13.0\t15.0\t| \n",
      "17.0\t19.0\t21.0\t| \n",
      "23.0\t25.0\t27.0\t| \n",
      "\n",
      " Diffrence of matrix2 from matrix1\n",
      "-9.0\t-9.0\t-9.0\t| \n",
      "-9.0\t-9.0\t-9.0\t| \n",
      "-9.0\t-9.0\t-9.0\t| \n",
      "\n",
      " Product of matrices matrix1, matrix2\n",
      "84.0\t90.0\t96.0\t| \n",
      "201.0\t216.0\t231.0\t| \n",
      "318.0\t342.0\t366.0\t| \n",
      "\n",
      " Product of matrices matrix1 by scalar 3\n",
      "3.0\t6.0\t9.0\t| \n",
      "12.0\t15.0\t18.0\t| \n",
      "21.0\t24.0\t27.0\t| \n",
      "\n"
     ]
    }
   ],
   "source": [
    "matrix1 = [[1.0,2.0,3.0], [4.0,5.0,6.0], [7.0,8.0,9.0]]\n",
    "matrix2 = [[10.0,11.0,12.0], [13.0,14.0,15.0], [16.0,17.0,18.0]]\n",
    "\n",
    "# Perform sum of two matrices\n",
    "matrix_sum = la.linear_algebra.get_matrix_sum(matrix1, matrix2)\n",
    "print \" Sum of matrices matrix1, matrix2\"\n",
    "la.linear_algebra.print_matrix(matrix_sum)\n",
    "\n",
    "# Perform substract of another matrix from another\n",
    "matrix_diff = la.linear_algebra.get_matrix_diff(matrix1, matrix2)\n",
    "print \" Diffrence of matrix2 from matrix1\"\n",
    "la.linear_algebra.print_matrix(matrix_diff)\n",
    "\n",
    "# Perform product of two matrices\n",
    "matrix_product = la.linear_algebra.get_matrix_product(matrix1, matrix2)\n",
    "print \" Product of matrices matrix1, matrix2\"\n",
    "la.linear_algebra.print_matrix(matrix_product)\n",
    "\n",
    "# Scalar product of matrix matrix1 by 3\n",
    "matrix_scalar_product = la.linear_algebra.get_matrix_scalar_product(3.0, matrix1)\n",
    "print \" Product of matrices matrix1 by scalar 3\"\n",
    "la.linear_algebra.print_matrix(matrix_scalar_product)\n",
    "\n",
    "\n"
   ]
  },
  {
   "cell_type": "markdown",
   "metadata": {},
   "source": [
    "# Eigen Value and Eigen Vector of matrix\n",
    "\n",
    "The following methods eigen value of a matrix:\n",
    "\n",
    "get_eigen_values: This method returns all the eigen vlaues of a matrix\n",
    "get_eigen_vector: This method returns all the eigen vector for given eigen value of matrix\n",
    "\n",
    "\n",
    "\n",
    "## Implementation: Calculating Eigen Values\n",
    "\n",
    "Eigen value of a matrix is calculated using QR algorithm. The basis of QR method is that matrix A can be written as \n",
    "\n",
    "A = Q.R\n",
    "\n",
    "Where Q is the orthogonal and R is the upper triangle.\n",
    "\n",
    "Steps are as below:\n",
    "\n",
    "Step1: Set A1 = A, Q1=Q, R1= R\n",
    "\n",
    "Step2: First set A2 = R1 . Q1  then factor A2 as A2 = Q2 . R2\n",
    "\n",
    "Step3: set A3 = R2 . Q2 then factor A3 as A3 = Q3. R3\n",
    "\n",
    "This process is continued until there is no change\n",
    "\n",
    "## Implementation: Calculating Eigen Vector for a eigen value\n",
    "Inverse iteration (also known as the inverse power method) is used for calculating eigen vector for a given eigen value. It allows one to find an approximate eigenvector when an approximation to a corresponding eigenvalue is already known. \n",
    "\n",
    "The inverse power iteration algorithm starts with an approximation μ  for the eigenvalue corresponding to the desired eigenvector and a vector b(0), either a randomly selected vector or an approximation to the eigenvector. The method is described by the iteration\n",
    "\n",
    "    b(k + 1) = Inverse( A − μ I )  b (k) /C (k) \n",
    "\n",
    "where C(k) are some constants usually chosen  Since eigenvectors are defined up to multiplication by constant, the choice of C(k) can be arbitrary in theory; \n",
    "\n",
    "References: https://en.wikipedia.org/wiki/Inverse_iteration\n",
    "\n",
    "\n"
   ]
  },
  {
   "cell_type": "code",
   "execution_count": 5,
   "metadata": {
    "scrolled": true
   },
   "outputs": [
    {
     "name": "stdout",
     "output_type": "stream",
     "text": [
      "eigen_values=[3.0000030106865303, 0.9999969893134739, -1.0]\n",
      "\n",
      "for eigen_value=3.00000301069 eigen_vector=[[-1.0], [1.0000000000000004], [0.0]]\n",
      "\n",
      "for eigen_value=0.999996989313 eigen_vector=[[-1.0], [1.6666666666666654], [0.0]]\n",
      "\n",
      "for eigen_value=-1.0 eigen_vector=[[1.0], [3.0000000000000004], [4.000000000000001]]\n",
      "\n"
     ]
    }
   ],
   "source": [
    "matrix = [[6.0,3.0,-4.0],[-5.0,-2.0,2.0],[0.0,0.0,-1.0]]\n",
    "\n",
    "# Find eigen value of matrix\n",
    "eigen_values = la.linear_algebra.get_eigen_values(matrix)\n",
    "print \"eigen_values=\" + str(eigen_values)\n",
    "print \n",
    "\n",
    "# For each eigen value find eigen vector of matrix\n",
    "for eigen in eigen_values:\n",
    "    eigen_vector = la.linear_algebra.get_eigen_vector(matrix, eigen)\n",
    "    print \"for eigen_value=\" + str(eigen) + \" eigen_vector=\" + str(eigen_vector)\n",
    "    print"
   ]
  },
  {
   "cell_type": "markdown",
   "metadata": {},
   "source": [
    "## Linear Equations solving using Gauss Jordan\n",
    "\n",
    "Method solve_gauss_jordan solves set of linear equations.\n",
    "\n",
    "Gauss Jordan is an iterative method for solving a set of linear equations. The set of equations are written in augemented matrix form and using the following operations:\n",
    "\n",
    " There are three types of elementary row operations which may be performed on the rows of a augemented matrix:\n",
    "\n",
    "* Type 1: Swap the positions of two rows.\n",
    "* Type 2: Multiply a row by a nonzero scalar.\n",
    "* Type 3: Add to one row a scalar multiple of another. \n",
    "\n",
    "1. Write the augmented matrix of the system.\n",
    "2. Use row operations to transform the augmented matrix in the form described below, which is\n",
    "called the reduced row echelon form(RREF).\n",
    "(a) The rows (if any) consisting entirely of zeros are grouped together at the bottom of the\n",
    "matrix.\n",
    "(b) In each row that does not consist entirely of zeros, the leftmost nonzero element is a 1\n",
    "(called a leading 1 or a pivot).\n",
    "(c) Each column that contains a leading 1 has zeros in all other entries.\n",
    "(d) The leading 1 in any row is to the left of any leading 1’s in the rows below it.\n",
    "\n",
    "3. Stop process in step 2 if you obtain a row whose elements are all zeros except the last one on the right. In that case, the system is inconsistent and has no solutions. Otherwise, finish step\n",
    "2 and read the solutions of the system from the final matrix.\n",
    "\n",
    "References: \n",
    "http://pages.pacificcoast.net/~cazelais/251/gauss-jordan.pdf\n",
    "https://en.wikipedia.org/wiki/Gaussian_elimination\n"
   ]
  },
  {
   "cell_type": "code",
   "execution_count": 6,
   "metadata": {},
   "outputs": [
    {
     "name": "stdout",
     "output_type": "stream",
     "text": [
      "Solution is X: [1.0, 2.0, -1.0, 0.9999999999999999]\n"
     ]
    }
   ],
   "source": [
    "# Define system of linear equations as augmented matrix\n",
    "A = [[10.0,-1.0,2.0,0.0,6.0],[-1.0,11.0,-1.0,3.0,25.0],[2.0,-1.0,10.0,-1.0,-11.0],[0.0,3.0,-1.0,8.0,15.0]]\n",
    "X = la.linear_algebra.solve_gauss_jordan(A)\n",
    "print \"Solution is X: \" + str(X)"
   ]
  },
  {
   "cell_type": "markdown",
   "metadata": {},
   "source": [
    "### Linear Equations solving using Gauss Siedel\n",
    "\n",
    "The Gauss–Seidel method is an iterative technique for solving a square system of n linear equations with unknown x:\n",
    "\n",
    "    A x = b .\n",
    "\n",
    "It is defined by the iteration\n",
    "\n",
    "    L  x (k + 1) = b − U x (k) \n",
    "\n",
    "where x(k) is the kth approximation or iteration of x , x (k + 1)  is the next or k + 1 iteration of x and the matrix A is decomposed into a lower triangular component L   and a strictly upper triangular component U: A = L  + U \n",
    "\n",
    "\n",
    "The system of linear equations may be rewritten as:\n",
    "\n",
    "    L ∗ x = b − U x \n",
    "\n",
    "The Gauss–Seidel method now solves the left hand side of this expression for x, using previous value for x on the right hand side. Analytically, this may be written as:\n",
    "\n",
    "    x (k + 1) = Inverse(L) ( b − U x (k)) \n",
    "    \n",
    "\n",
    "References: https://en.wikipedia.org/wiki/Gauss%E2%80%93Seidel_method\n",
    "\n"
   ]
  },
  {
   "cell_type": "code",
   "execution_count": 7,
   "metadata": {
    "scrolled": true
   },
   "outputs": [
    {
     "name": "stdout",
     "output_type": "stream",
     "text": [
      "Solution is X: [[1.0000512493530582], [2.0000173143302193], [-1.0000182294027573], [0.9999912284508232]]\n"
     ]
    }
   ],
   "source": [
    "A = [[10.0,-1.0,2.0,0.0,6.0],[-1.0,11.0,-1.0,3.0,25.0],[2.0,-1.0,10.0,-1.0,-11.0],[0.0,3.0,-1.0,8.0,15.0]]\n",
    "X = la.linear_algebra.solve_gauss_seidel(A)\n",
    "print \"Solution is X: \" + str(X)"
   ]
  },
  {
   "cell_type": "markdown",
   "metadata": {},
   "source": [
    "## PCA\n",
    "\n",
    "principal component analysis, one of the main goals is to reduce the dimensionality of the data reducing the complexity of the problem.\n",
    "\n",
    "Steps involved in PCA are:\n",
    "\n",
    "* Step 1: Get some data\n",
    "* Step 2: Subtract the mean\n",
    "* Step 3: Calculate the covariance matrix\n",
    "* Step 4: Calculate the eigenvectors and eigenvalues of the covariance\n",
    "matrix\n",
    "* Step 5: Choosing components and forming a feature vector\n",
    "* Step 6: Deriving the new data set: Once we have chosen the components\n",
    "(eigenvectors) that we wish to keep in our data and formed a feature vector, we simply\n",
    "take the transpose of the vector and multiply it on the left of the original data set,\n",
    "transposed.\n"
   ]
  },
  {
   "cell_type": "code",
   "execution_count": 9,
   "metadata": {
    "scrolled": true
   },
   "outputs": [
    {
     "name": "stdout",
     "output_type": "stream",
     "text": [
      "Reduced data after PCA transformation: [[1.2214230385777176], [-2.6222895442429346], [1.463691445289674], [0.4045156758929351], [2.472145126632065], [1.3467840826048914], [-0.1462064121614126], [-1.688474818873369], [-0.6462064121614126], [-1.8053821815581517]]\n"
     ]
    }
   ],
   "source": [
    "#la.linear_algebra.ENABLE_LOG=True\n",
    "# Define data to be PCA transformed\n",
    "data = [[2.5,2.4], [0.5, 0.7], [2.2,2.9], [1.9,2.2],[3.1,3.0], [2.3,2.7], [2.0,1.6], [1.0,1.1], [1.5, 1.6], [1.1, 0.9] ]\n",
    "\n",
    "# Use PCA transformation on data with dimension 1\n",
    "reduced_data = la.linear_algebra.pca(data, 1)\n",
    "\n",
    "# Print the reduced data after PCA transformation \n",
    "print \"Reduced data after PCA transformation: \" + str(reduced_data)\n",
    "\n"
   ]
  },
  {
   "cell_type": "code",
   "execution_count": null,
   "metadata": {
    "collapsed": true
   },
   "outputs": [],
   "source": []
  }
 ],
 "metadata": {
  "kernelspec": {
   "display_name": "Python 3",
   "language": "python",
   "name": "python3"
  },
  "language_info": {
   "codemirror_mode": {
    "name": "ipython",
    "version": 3
   },
   "file_extension": ".py",
   "mimetype": "text/x-python",
   "name": "python",
   "nbconvert_exporter": "python",
   "pygments_lexer": "ipython3",
   "version": "3.6.5"
  }
 },
 "nbformat": 4,
 "nbformat_minor": 1
}
